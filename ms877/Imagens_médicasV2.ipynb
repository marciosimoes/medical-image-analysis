{
 "cells": [
  {
   "cell_type": "code",
   "execution_count": 1,
   "metadata": {},
   "outputs": [],
   "source": [
    "#Sklearn\n",
    "from sklearn.preprocessing import LabelEncoder\n",
    "from sklearn.preprocessing import MinMaxScaler\n",
    "from sklearn.model_selection import train_test_split, cross_val_score\n",
    "from sklearn.model_selection import KFold, StratifiedKFold\n",
    "from sklearn.metrics import confusion_matrix, accuracy_score, classification_report\n",
    "from sklearn.metrics import mean_squared_error\n",
    "from sklearn.svm import SVC\n",
    "from sklearn.ensemble import RandomForestClassifier\n",
    "from sklearn.neural_network import MLPClassifier\n",
    "from itertools import product\n",
    "from matplotlib import pyplot\n",
    "\n",
    "#bibliotecas dos descritores\n",
    "import numpy as np\n",
    "import mahotas\n",
    "import cv2\n",
    "import os\n",
    "import h5py\n",
    "import warnings\n",
    "\n",
    "import matplotlib.pyplot as plt\n",
    "\n",
    "warnings.filterwarnings('ignore')"
   ]
  },
  {
   "cell_type": "code",
   "execution_count": 2,
   "metadata": {},
   "outputs": [],
   "source": [
    "fixed_size = tuple((100, 100))\n",
    "train_path = \"../testes/cyst_IC/train\"\n",
    "h5_data = '../testes/output/data.h5'\n",
    "h5_labels = '../testes/output/labels.h5'\n",
    "bins = 8"
   ]
  },
  {
   "cell_type": "markdown",
   "metadata": {},
   "source": [
    "## Extraindo os descritores das imagens"
   ]
  },
  {
   "cell_type": "code",
   "execution_count": 3,
   "metadata": {},
   "outputs": [],
   "source": [
    "# Descritor 1: Hu Moments\n",
    "def fd_hu_moments(image):\n",
    "    image = cv2.cvtColor(image, cv2.COLOR_BGR2GRAY)\n",
    "    feature = cv2.HuMoments(cv2.moments(image)).flatten()\n",
    "    return feature\n",
    "\n",
    "# Descritor 2: Haralick Texture\n",
    "def fd_haralick(image):\n",
    "    gray = cv2.cvtColor(image, cv2.COLOR_BGR2GRAY)\n",
    "    haralick = mahotas.features.haralick(gray).mean(axis=0)\n",
    "    return haralick\n",
    "\n",
    "# Descritor 3: Color Histogram\n",
    "def fd_histogram(image, mask=None):\n",
    "    image = cv2.cvtColor(image, cv2.COLOR_BGR2HSV)\n",
    "    hist  = cv2.calcHist([image], [0, 1, 2], None, [bins, bins, bins], [0, 256, 0, 256, 0, 256])\n",
    "    cv2.normalize(hist, hist)\n",
    "    return hist.flatten()"
   ]
  },
  {
   "cell_type": "code",
   "execution_count": 4,
   "metadata": {},
   "outputs": [
    {
     "name": "stdout",
     "output_type": "stream",
     "text": [
      "['K', 'R', 'S']\n"
     ]
    }
   ],
   "source": [
    "train_labels = os.listdir(train_path)\n",
    "\n",
    "# classificação\n",
    "train_labels.sort()\n",
    "print(train_labels)"
   ]
  },
  {
   "cell_type": "code",
   "execution_count": 5,
   "metadata": {},
   "outputs": [],
   "source": [
    "# vetores descritores\n",
    "global_features = []\n",
    "labels = []"
   ]
  },
  {
   "cell_type": "code",
   "execution_count": 6,
   "metadata": {},
   "outputs": [
    {
     "name": "stdout",
     "output_type": "stream",
     "text": [
      "Processando pasta: K\n",
      "Processando pasta: R\n",
      "Processando pasta: S\n"
     ]
    }
   ],
   "source": [
    "for training_name in train_labels:\n",
    "    dir = os.path.join(train_path, training_name)\n",
    "    list = os.listdir(dir)\n",
    "    number_files = len(list)\n",
    "\n",
    "    current_label = training_name\n",
    "\n",
    "    for x in range(1,number_files+1):\n",
    "        file = dir + \"/(\" + str(x) + \").png\"\n",
    "\n",
    "        image = cv2.imread(file)\n",
    "        image = cv2.resize(image, fixed_size)\n",
    "\n",
    "        fv_hu_moments = fd_hu_moments(image)\n",
    "        fv_haralick   = fd_haralick(image)\n",
    "        fv_histogram  = fd_histogram(image)\n",
    "\n",
    "        global_feature = np.hstack([fv_histogram, fv_haralick, fv_hu_moments])\n",
    "\n",
    "        labels.append(current_label)\n",
    "        global_features.append(global_feature)\n",
    "\n",
    "    print(\"Processando pasta: {}\".format(current_label))"
   ]
  },
  {
   "cell_type": "code",
   "execution_count": 7,
   "metadata": {},
   "outputs": [],
   "source": [
    "# codificando descritores\n",
    "targetNames = np.unique(labels)\n",
    "le = LabelEncoder()\n",
    "target = le.fit_transform(labels)"
   ]
  },
  {
   "cell_type": "code",
   "execution_count": 8,
   "metadata": {},
   "outputs": [],
   "source": [
    "# normalizando a matriz de descritores\n",
    "scaler = MinMaxScaler(feature_range=(0, 1))\n",
    "rescaled_features = scaler.fit_transform(global_features)"
   ]
  },
  {
   "cell_type": "code",
   "execution_count": 9,
   "metadata": {},
   "outputs": [],
   "source": [
    "# salvando os descritores no formato HDF5\n",
    "h5f_data = h5py.File(h5_data, 'w')\n",
    "h5f_data.create_dataset('dataset_1', data=np.array(rescaled_features))\n",
    "\n",
    "h5f_label = h5py.File(h5_labels, 'w')\n",
    "h5f_label.create_dataset('dataset_1', data=np.array(target))\n",
    "\n",
    "h5f_data.close()\n",
    "h5f_label.close()"
   ]
  },
  {
   "cell_type": "code",
   "execution_count": 10,
   "metadata": {},
   "outputs": [],
   "source": [
    "# TREINANDO COM OS DESCRITORES\n",
    "num_trees = 100\n",
    "test_size = 0.50\n",
    "seed = 9\n",
    "test_path = \"../testes/cyst_IC/test\"\n",
    "scoring = \"accuracy\"\n",
    "\n",
    "train_labels = os.listdir(train_path)\n",
    "\n",
    "train_labels.sort()\n",
    "\n",
    "if not os.path.exists(test_path):\n",
    "    os.makedirs(test_path)"
   ]
  },
  {
   "cell_type": "code",
   "execution_count": 11,
   "metadata": {},
   "outputs": [],
   "source": [
    "results = []\n",
    "names = []\n",
    "\n",
    "# importando os descritores\n",
    "h5f_data  = h5py.File(h5_data, 'r')\n",
    "h5f_label = h5py.File(h5_labels, 'r')\n",
    "\n",
    "global_features_string = h5f_data['dataset_1']\n",
    "global_labels_string   = h5f_label['dataset_1']\n",
    "\n",
    "global_features = np.array(global_features_string)\n",
    "global_labels   = np.array(global_labels_string)\n",
    "\n",
    "h5f_data.close()\n",
    "h5f_label.close()"
   ]
  },
  {
   "cell_type": "code",
   "execution_count": 12,
   "metadata": {},
   "outputs": [],
   "source": [
    "# separando os dados em teste e validação\n",
    "(trainDataGlobal, testDataGlobal, trainLabelsGlobal, testLabelsGlobal) = train_test_split(np.array(global_features),\n",
    "                                                                                          np.array(global_labels),\n",
    "                                                                                          test_size=test_size,\n",
    "                                                                                          random_state=seed)"
   ]
  },
  {
   "cell_type": "markdown",
   "metadata": {},
   "source": [
    "## Classificando as imagens médicas"
   ]
  },
  {
   "cell_type": "code",
   "execution_count": 13,
   "metadata": {},
   "outputs": [
    {
     "data": {
      "text/plain": [
       "SVC(C=1.0, break_ties=False, cache_size=200, class_weight=None, coef0=0.0,\n",
       "    decision_function_shape='ovr', degree=3, gamma='scale', kernel='rbf',\n",
       "    max_iter=-1, probability=False, random_state=9, shrinking=True, tol=0.001,\n",
       "    verbose=False)"
      ]
     },
     "execution_count": 13,
     "metadata": {},
     "output_type": "execute_result"
    }
   ],
   "source": [
    "# Explorando o SVC\n",
    "clf = SVC(random_state=seed)\n",
    "\n",
    "# treinamento\n",
    "clf.fit(trainDataGlobal, trainLabelsGlobal)"
   ]
  },
  {
   "cell_type": "code",
   "execution_count": 14,
   "metadata": {},
   "outputs": [
    {
     "data": {
      "text/plain": [
       "0.8765432098765432"
      ]
     },
     "execution_count": 14,
     "metadata": {},
     "output_type": "execute_result"
    }
   ],
   "source": [
    "# verificando qual a taxa de acerto para o conjunto teste\n",
    "clf.score(testDataGlobal, testLabelsGlobal)"
   ]
  },
  {
   "cell_type": "markdown",
   "metadata": {},
   "source": [
    "## Experimentando uma imagem teste"
   ]
  },
  {
   "cell_type": "code",
   "execution_count": 15,
   "metadata": {},
   "outputs": [
    {
     "data": {
      "text/plain": [
       "array([ 2.22212669, -0.23506601,  1.09433067])"
      ]
     },
     "execution_count": 15,
     "metadata": {},
     "output_type": "execute_result"
    }
   ],
   "source": [
    "# selecionando uma imagem teste qualquer para verificar seus scores\n",
    "n = 1440\n",
    "scores = clf.decision_function(testDataGlobal[n:n+1])[0]\n",
    "scores"
   ]
  },
  {
   "cell_type": "code",
   "execution_count": 16,
   "metadata": {
    "scrolled": true
   },
   "outputs": [
    {
     "data": {
      "text/plain": [
       "2"
      ]
     },
     "execution_count": 16,
     "metadata": {},
     "output_type": "execute_result"
    }
   ],
   "source": [
    "# verificando qual classe essa imagem pertence (K=0, R=1, S=2)\n",
    "testLabelsGlobal[n]"
   ]
  },
  {
   "cell_type": "code",
   "execution_count": 17,
   "metadata": {
    "scrolled": true
   },
   "outputs": [
    {
     "data": {
      "text/plain": [
       "(0, 1, 2)"
      ]
     },
     "execution_count": 17,
     "metadata": {},
     "output_type": "execute_result"
    }
   ],
   "source": [
    "# selecionando uma imagem de cada classe do nosso conjunto de treinamento\n",
    "imgs_train = trainDataGlobal[2], trainDataGlobal[0], trainDataGlobal[1]\n",
    "trainLabelsGlobal[2], trainLabelsGlobal[0], trainLabelsGlobal[1]"
   ]
  },
  {
   "cell_type": "code",
   "execution_count": 18,
   "metadata": {},
   "outputs": [],
   "source": [
    "# função que calcula as distâncias\n",
    "def calc_dist(img_test, imgs_train):\n",
    "    return [np.sqrt(np.sum((img_test - imgs_train[0])**2)),\n",
    "            np.sqrt(np.sum((img_test - imgs_train[1])**2)), \n",
    "            np.sqrt(np.sum((img_test - imgs_train[2])**2))]"
   ]
  },
  {
   "cell_type": "code",
   "execution_count": 19,
   "metadata": {},
   "outputs": [
    {
     "data": {
      "text/plain": [
       "[0.8177133869572023, 1.4962028892998522, 0.3231796463478212]"
      ]
     },
     "execution_count": 19,
     "metadata": {},
     "output_type": "execute_result"
    }
   ],
   "source": [
    "# calculando a distância entre a imagem teste e as imagens de treinamento\n",
    "dist = calc_dist(testDataGlobal[n], imgs_train)\n",
    "dist"
   ]
  },
  {
   "cell_type": "code",
   "execution_count": 20,
   "metadata": {},
   "outputs": [
    {
     "data": {
      "text/plain": [
       "array([2.71748846, 0.15710838, 3.38613736])"
      ]
     },
     "execution_count": 20,
     "metadata": {},
     "output_type": "execute_result"
    }
   ],
   "source": [
    "# novos scores\n",
    "np.absolute(scores/dist)"
   ]
  },
  {
   "cell_type": "markdown",
   "metadata": {},
   "source": [
    "## Aplicando ensemble no conjunto todo"
   ]
  },
  {
   "cell_type": "code",
   "execution_count": 21,
   "metadata": {
    "scrolled": true
   },
   "outputs": [
    {
     "name": "stdout",
     "output_type": "stream",
     "text": [
      "[n, distancia] [733, 566.3339320894613]\n",
      "[n, distancia] [258, 479.1787664226994]\n",
      "[n, distancia] [1360, 334.7079018406201]\n"
     ]
    }
   ],
   "source": [
    "# cálculo das imagens de cada conjunto com menor distância\n",
    "dists_K = []\n",
    "dists_R = []\n",
    "dists_S = []\n",
    "for i in range(len(trainDataGlobal)):\n",
    "    dist = 0\n",
    "    for j in range(len(trainDataGlobal)):\n",
    "        if trainLabelsGlobal[i] == trainLabelsGlobal[j]:\n",
    "            dist = dist + np.sqrt(np.sum((trainDataGlobal[i] - trainDataGlobal[j])**2))\n",
    "    if trainLabelsGlobal[i] == 0:\n",
    "        dists_K.append([i, dist])\n",
    "    elif trainLabelsGlobal[i] == 1:\n",
    "        dists_R.append([i, dist])\n",
    "    elif trainLabelsGlobal[i] == 2:\n",
    "        dists_S.append([i, dist])\n",
    "        \n",
    "K = [x[1] for x in dists_K]\n",
    "n = K.index(min(K))\n",
    "print(\"[n, distancia]\", dists_K[n])\n",
    "\n",
    "R = [x[1] for x in dists_R]\n",
    "n = R.index(min(R))\n",
    "print(\"[n, distancia]\", dists_R[n])\n",
    "\n",
    "S = [x[1] for x in dists_S]\n",
    "n = S.index(min(S))\n",
    "print(\"[n, distancia]\", dists_S[n])"
   ]
  },
  {
   "cell_type": "code",
   "execution_count": 22,
   "metadata": {},
   "outputs": [
    {
     "data": {
      "text/plain": [
       "(0, 1, 2)"
      ]
     },
     "execution_count": 22,
     "metadata": {},
     "output_type": "execute_result"
    }
   ],
   "source": [
    "# selecionando uma imagem de cada classe do nosso conjunto de treinamento\n",
    "imgs_train = trainDataGlobal[733], trainDataGlobal[258], trainDataGlobal[1360]\n",
    "trainLabelsGlobal[733], trainLabelsGlobal[258], trainLabelsGlobal[1360]"
   ]
  },
  {
   "cell_type": "code",
   "execution_count": 23,
   "metadata": {},
   "outputs": [],
   "source": [
    "# função pra calcular os pesos\n",
    "def weight(d):\n",
    "    w = []\n",
    "    for i in range(len(d)):\n",
    "        s = 0\n",
    "        for j in range(len(d)):\n",
    "            if j != i:\n",
    "                s = s + d[j]\n",
    "        w.append((s/len(d))/d[i])\n",
    "        \n",
    "    return w"
   ]
  },
  {
   "cell_type": "code",
   "execution_count": 24,
   "metadata": {},
   "outputs": [],
   "source": [
    "# aplicando a ideia de distância em todo o conjunto teste\n",
    "allScores = clf.decision_function(testDataGlobal)\n",
    "\n",
    "newScores = []\n",
    "dists = []\n",
    "for i in range(len(allScores)):\n",
    "    dist = calc_dist(testDataGlobal[i], imgs_train)\n",
    "    weights = weight(dist)\n",
    "    dists.append(dist)\n",
    "    newScores.append(allScores[i]*weights)"
   ]
  },
  {
   "cell_type": "code",
   "execution_count": 25,
   "metadata": {},
   "outputs": [],
   "source": [
    "# obtendo as previsões para o conjunto teste\n",
    "predict = []\n",
    "for score in newScores: \n",
    "    score = score.tolist()\n",
    "    predict.append(score.index(max(score)))"
   ]
  },
  {
   "cell_type": "code",
   "execution_count": 26,
   "metadata": {},
   "outputs": [
    {
     "name": "stdout",
     "output_type": "stream",
     "text": [
      "0.8844855967078189\n"
     ]
    }
   ],
   "source": [
    "# calculando o desempenho dada a transformação\n",
    "testOk = 0    \n",
    "for i in range(len(testDataGlobal)):      \n",
    "    if predict[i] == testLabelsGlobal[i]:\n",
    "        testOk = testOk + 1\n",
    "        \n",
    "print(testOk/len(testDataGlobal))"
   ]
  },
  {
   "cell_type": "code",
   "execution_count": 27,
   "metadata": {
    "scrolled": true
   },
   "outputs": [
    {
     "data": {
      "text/plain": [
       "RandomForestClassifier(bootstrap=True, ccp_alpha=0.0, class_weight=None,\n",
       "                       criterion='gini', max_depth=None, max_features='auto',\n",
       "                       max_leaf_nodes=None, max_samples=None,\n",
       "                       min_impurity_decrease=0.0, min_impurity_split=None,\n",
       "                       min_samples_leaf=1, min_samples_split=2,\n",
       "                       min_weight_fraction_leaf=0.0, n_estimators=100,\n",
       "                       n_jobs=None, oob_score=False, random_state=9, verbose=0,\n",
       "                       warm_start=False)"
      ]
     },
     "execution_count": 27,
     "metadata": {},
     "output_type": "execute_result"
    }
   ],
   "source": [
    "# Explorando o melhor algoritmo: RF\n",
    "clf2 = RandomForestClassifier(n_estimators=num_trees, random_state=seed)\n",
    "\n",
    "# treinamento\n",
    "clf2.fit(trainDataGlobal, trainLabelsGlobal)"
   ]
  },
  {
   "cell_type": "code",
   "execution_count": 28,
   "metadata": {},
   "outputs": [
    {
     "data": {
      "text/plain": [
       "0.9876834473251029"
      ]
     },
     "execution_count": 28,
     "metadata": {},
     "output_type": "execute_result"
    }
   ],
   "source": [
    "# verificando qual a taxa de acerto para o conjunto teste\n",
    "clf2.score(testDataGlobal, testLabelsGlobal)"
   ]
  },
  {
   "cell_type": "code",
   "execution_count": 29,
   "metadata": {},
   "outputs": [],
   "source": [
    "# aplicando a ideia de distância em todo o conjunto teste\n",
    "allScores_2 = clf2.predict_proba(testDataGlobal)\n",
    "\n",
    "newScores_2 = []\n",
    "dists_2 = []\n",
    "for i in range(len(allScores_2)):\n",
    "    weights = weight(dists[i])\n",
    "    newScores_2.append(allScores_2[i]*weights)"
   ]
  },
  {
   "cell_type": "code",
   "execution_count": 30,
   "metadata": {},
   "outputs": [],
   "source": [
    "# obtendo as previsoes para o conjunto teste\n",
    "predict_2 = []\n",
    "for score in newScores_2: \n",
    "    score = score.tolist()\n",
    "    predict_2.append(score.index(max(score)))"
   ]
  },
  {
   "cell_type": "code",
   "execution_count": 31,
   "metadata": {},
   "outputs": [
    {
     "name": "stdout",
     "output_type": "stream",
     "text": [
      "0.9880521262002744\n"
     ]
    }
   ],
   "source": [
    "# calculando o desempenho dada a transformação\n",
    "testOk = 0    \n",
    "for i in range(len(testDataGlobal)):      \n",
    "    if predict_2[i] == testLabelsGlobal[i]:\n",
    "        testOk = testOk + 1\n",
    "        \n",
    "print(testOk/len(testDataGlobal))"
   ]
  },
  {
   "cell_type": "markdown",
   "metadata": {},
   "source": [
    "## Usando uma rede neural como ensemble"
   ]
  },
  {
   "cell_type": "code",
   "execution_count": 32,
   "metadata": {},
   "outputs": [],
   "source": [
    "# criando a entrada e a saida da rede neural\n",
    "dataRN = []\n",
    "for i in range(len(allScores)):      \n",
    "    s = allScores[i].tolist() + dists[i]\n",
    "    dataRN.append(np.array(s))\n",
    "    \n",
    "# separando os dados em teste e validação\n",
    "(trainDataRN, testDataRN, trainLabelsRN, testLabelsRN) = train_test_split(np.array(dataRN),\n",
    "                                                                          np.array(testLabelsGlobal),\n",
    "                                                                          test_size=test_size,\n",
    "                                                                          random_state=seed)"
   ]
  },
  {
   "cell_type": "code",
   "execution_count": 33,
   "metadata": {},
   "outputs": [
    {
     "data": {
      "text/plain": [
       "MLPClassifier(activation='relu', alpha=0.0001, batch_size='auto', beta_1=0.9,\n",
       "              beta_2=0.999, early_stopping=False, epsilon=1e-08,\n",
       "              hidden_layer_sizes=50, learning_rate='constant',\n",
       "              learning_rate_init=0.001, max_fun=15000, max_iter=200,\n",
       "              momentum=0.9, n_iter_no_change=10, nesterovs_momentum=True,\n",
       "              power_t=0.5, random_state=None, shuffle=True, solver='adam',\n",
       "              tol=0.0001, validation_fraction=0.1, verbose=False,\n",
       "              warm_start=False)"
      ]
     },
     "execution_count": 33,
     "metadata": {},
     "output_type": "execute_result"
    }
   ],
   "source": [
    "# Explorando a rede neural (+pesos calculados)\n",
    "clfRN = MLPClassifier(hidden_layer_sizes=50)\n",
    "\n",
    "# treinamento\n",
    "clfRN.fit(trainDataRN, trainLabelsRN)"
   ]
  },
  {
   "cell_type": "code",
   "execution_count": 34,
   "metadata": {},
   "outputs": [
    {
     "data": {
      "text/plain": [
       "0.8820301783264746"
      ]
     },
     "execution_count": 34,
     "metadata": {},
     "output_type": "execute_result"
    }
   ],
   "source": [
    "# verificando qual a taxa de acerto para o conjunto teste\n",
    "clfRN.score(testDataRN, testLabelsRN)"
   ]
  },
  {
   "cell_type": "code",
   "execution_count": 35,
   "metadata": {},
   "outputs": [],
   "source": [
    "# criando a entrada e a saida da rede neural\n",
    "dataRN_2 = []\n",
    "for i in range(len(allScores)):      \n",
    "    s = allScores_2[i].tolist() + dists[i]\n",
    "    dataRN_2.append(np.array(s))\n",
    "    \n",
    "# separando os dados em teste e validação\n",
    "(trainDataRN_2, testDataRN_2, trainLabelsRN_2, testLabelsRN_2) = train_test_split(np.array(dataRN_2),\n",
    "                                                                                  np.array(testLabelsGlobal),\n",
    "                                                                                  test_size=test_size,\n",
    "                                                                                  random_state=seed)"
   ]
  },
  {
   "cell_type": "code",
   "execution_count": 44,
   "metadata": {},
   "outputs": [
    {
     "data": {
      "text/plain": [
       "MLPClassifier(activation='relu', alpha=0.0001, batch_size='auto', beta_1=0.9,\n",
       "              beta_2=0.999, early_stopping=False, epsilon=1e-08,\n",
       "              hidden_layer_sizes=50, learning_rate='constant',\n",
       "              learning_rate_init=0.001, max_fun=15000, max_iter=200,\n",
       "              momentum=0.9, n_iter_no_change=10, nesterovs_momentum=True,\n",
       "              power_t=0.5, random_state=None, shuffle=True, solver='adam',\n",
       "              tol=0.0001, validation_fraction=0.1, verbose=False,\n",
       "              warm_start=False)"
      ]
     },
     "execution_count": 44,
     "metadata": {},
     "output_type": "execute_result"
    }
   ],
   "source": [
    "# Explorando a rede neural (+RF)\n",
    "clfRN_2 = MLPClassifier(hidden_layer_sizes=50)\n",
    "\n",
    "# treinamento\n",
    "clfRN_2.fit(trainDataRN_2, trainLabelsRN_2)"
   ]
  },
  {
   "cell_type": "code",
   "execution_count": 45,
   "metadata": {},
   "outputs": [
    {
     "data": {
      "text/plain": [
       "0.9945130315500685"
      ]
     },
     "execution_count": 45,
     "metadata": {},
     "output_type": "execute_result"
    }
   ],
   "source": [
    "# verificando qual a taxa de acerto para o conjunto teste\n",
    "clfRN_2.score(testDataRN_2, testLabelsRN_2)"
   ]
  },
  {
   "cell_type": "code",
   "execution_count": 52,
   "metadata": {},
   "outputs": [
    {
     "data": {
      "text/plain": [
       "MLPClassifier(activation='relu', alpha=0.0001, batch_size='auto', beta_1=0.9,\n",
       "              beta_2=0.999, early_stopping=False, epsilon=1e-08,\n",
       "              hidden_layer_sizes=(50, 50), learning_rate='constant',\n",
       "              learning_rate_init=0.001, max_fun=15000, max_iter=200,\n",
       "              momentum=0.9, n_iter_no_change=10, nesterovs_momentum=True,\n",
       "              power_t=0.5, random_state=None, shuffle=True, solver='adam',\n",
       "              tol=0.0001, validation_fraction=0.1, verbose=False,\n",
       "              warm_start=False)"
      ]
     },
     "execution_count": 52,
     "metadata": {},
     "output_type": "execute_result"
    }
   ],
   "source": [
    "# Explorando a rede neural (+pesos calculados com 4 camadas)\n",
    "clfRN_3 = MLPClassifier(hidden_layer_sizes=(50,50))\n",
    "\n",
    "# treinamento\n",
    "clfRN_3.fit(trainDataRN, trainLabelsRN)"
   ]
  },
  {
   "cell_type": "code",
   "execution_count": 53,
   "metadata": {},
   "outputs": [
    {
     "data": {
      "text/plain": [
       "0.8950292148225646"
      ]
     },
     "execution_count": 53,
     "metadata": {},
     "output_type": "execute_result"
    }
   ],
   "source": [
    "# verificando qual a taxa de acerto para o conjunto teste\n",
    "clfRN_3.score(testDataRN, testLabelsRN)"
   ]
  },
  {
   "cell_type": "code",
   "execution_count": 40,
   "metadata": {},
   "outputs": [
    {
     "data": {
      "text/plain": [
       "MLPClassifier(activation='relu', alpha=0.0001, batch_size='auto', beta_1=0.9,\n",
       "              beta_2=0.999, early_stopping=False, epsilon=1e-08,\n",
       "              hidden_layer_sizes=(50, 50), learning_rate='constant',\n",
       "              learning_rate_init=0.001, max_fun=15000, max_iter=200,\n",
       "              momentum=0.9, n_iter_no_change=10, nesterovs_momentum=True,\n",
       "              power_t=0.5, random_state=None, shuffle=True, solver='adam',\n",
       "              tol=0.0001, validation_fraction=0.1, verbose=False,\n",
       "              warm_start=False)"
      ]
     },
     "execution_count": 40,
     "metadata": {},
     "output_type": "execute_result"
    }
   ],
   "source": [
    "# Explorando a rede neural (+RF com 4 camada)\n",
    "clfRN_4 = MLPClassifier(hidden_layer_sizes=(50,50))\n",
    "\n",
    "# treinamento\n",
    "clfRN_4.fit(trainDataRN_2, trainLabelsRN_2)"
   ]
  },
  {
   "cell_type": "code",
   "execution_count": 41,
   "metadata": {},
   "outputs": [
    {
     "data": {
      "text/plain": [
       "0.9958847736625515"
      ]
     },
     "execution_count": 41,
     "metadata": {},
     "output_type": "execute_result"
    }
   ],
   "source": [
    "# verificando qual a taxa de acerto para o conjunto teste\n",
    "clfRN_4.score(trainDataRN_2, trainLabelsRN_2)"
   ]
  },
  {
   "cell_type": "code",
   "execution_count": null,
   "metadata": {},
   "outputs": [],
   "source": []
  }
 ],
 "metadata": {
  "kernelspec": {
   "display_name": "Python 3",
   "language": "python",
   "name": "python3"
  },
  "language_info": {
   "codemirror_mode": {
    "name": "ipython",
    "version": 3
   },
   "file_extension": ".py",
   "mimetype": "text/x-python",
   "name": "python",
   "nbconvert_exporter": "python",
   "pygments_lexer": "ipython3",
   "version": "3.6.9"
  }
 },
 "nbformat": 4,
 "nbformat_minor": 2
}
